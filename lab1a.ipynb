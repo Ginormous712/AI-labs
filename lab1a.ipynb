{
 "cells": [
  {
   "metadata": {},
   "cell_type": "markdown",
   "source": "Інсталяція і імпорт бібліотек",
   "id": "fbc9bcab88b816b0"
  },
  {
   "metadata": {
    "ExecuteTime": {
     "start_time": "2024-12-02T09:06:22.904204Z"
    }
   },
   "cell_type": "code",
   "source": "!pip install pandas numpy scikit-learn tensorflow",
   "id": "7967826148f3df4a",
   "outputs": [],
   "execution_count": null
  },
  {
   "metadata": {},
   "cell_type": "markdown",
   "source": "",
   "id": "ca3e62524464bc47"
  },
  {
   "metadata": {
    "ExecuteTime": {
     "end_time": "2024-12-02T09:53:08.671073Z",
     "start_time": "2024-12-02T09:53:08.654656Z"
    }
   },
   "cell_type": "code",
   "source": [
    "import pandas as pd\n",
    "import numpy as np\n",
    "from sklearn.model_selection import train_test_split, StratifiedKFold\n",
    "from sklearn.metrics import classification_report, confusion_matrix, roc_auc_score\n",
    "from sklearn.preprocessing import MinMaxScaler\n",
    "import tensorflow as tf"
   ],
   "id": "f608b57ba18ab3b8",
   "outputs": [],
   "execution_count": 7
  },
  {
   "metadata": {},
   "cell_type": "markdown",
   "source": "Завантаження даних і препроцесинг",
   "id": "c432ee20db53b87a"
  },
  {
   "metadata": {
    "ExecuteTime": {
     "end_time": "2024-12-02T09:53:10.754539Z",
     "start_time": "2024-12-02T09:53:10.724441Z"
    }
   },
   "cell_type": "code",
   "source": "data = pd.read_csv(\"Churn_Modelling.csv\")",
   "id": "3c4ab8ffd899bce0",
   "outputs": [],
   "execution_count": 8
  },
  {
   "metadata": {
    "ExecuteTime": {
     "end_time": "2024-12-02T09:53:11.728013Z",
     "start_time": "2024-12-02T09:53:11.704779Z"
    }
   },
   "cell_type": "code",
   "source": [
    "# Видалення зайвих стовпців\n",
    "data_cleaned = data.drop(columns=[\"RowNumber\", \"CustomerId\", \"Surname\"])\n",
    "\n",
    "# Перетворення категоріальних змінних у числові\n",
    "data_encoded = pd.get_dummies(data_cleaned, columns=[\"Geography\", \"Gender\"], drop_first=True)\n",
    "\n",
    "# Нормалізація числових змінних\n",
    "scaler = MinMaxScaler()\n",
    "numerical_columns = [\"CreditScore\", \"Age\", \"Tenure\", \"Balance\", \"NumOfProducts\", \"EstimatedSalary\"]\n",
    "data_encoded[numerical_columns] = scaler.fit_transform(data_encoded[numerical_columns])\n",
    "\n",
    "# Розділення даних на ознаки (X) та цільову змінну (y)\n",
    "X = data_encoded.drop(columns=[\"Exited\"])\n",
    "y = data_encoded[\"Exited\"]"
   ],
   "id": "ba84032a51c0d760",
   "outputs": [],
   "execution_count": 9
  },
  {
   "metadata": {},
   "cell_type": "markdown",
   "source": "Кореляційний аналіз",
   "id": "35152c0c3d377a07"
  },
  {
   "metadata": {
    "ExecuteTime": {
     "end_time": "2024-12-02T09:53:15.164831Z",
     "start_time": "2024-12-02T09:53:15.145197Z"
    }
   },
   "cell_type": "code",
   "source": [
    "correlation_matrix = data_encoded.corr()\n",
    "print(\"Кореляція із залежною змінною (Exited):\")\n",
    "print(correlation_matrix[\"Exited\"].sort_values(ascending=False))"
   ],
   "id": "b75eb139ca3869ca",
   "outputs": [
    {
     "name": "stdout",
     "output_type": "stream",
     "text": [
      "Кореляція із залежною змінною (Exited):\n",
      "Exited               1.000000\n",
      "Age                  0.285323\n",
      "Geography_Germany    0.173488\n",
      "Balance              0.118533\n",
      "EstimatedSalary      0.012097\n",
      "HasCrCard           -0.007138\n",
      "Tenure              -0.014001\n",
      "CreditScore         -0.027094\n",
      "NumOfProducts       -0.047820\n",
      "Geography_Spain     -0.052667\n",
      "Gender_Male         -0.106512\n",
      "IsActiveMember      -0.156128\n",
      "Name: Exited, dtype: float64\n"
     ]
    }
   ],
   "execution_count": 10
  },
  {
   "metadata": {},
   "cell_type": "markdown",
   "source": "Крос-валідація",
   "id": "a294739a441fd36f"
  },
  {
   "metadata": {
    "ExecuteTime": {
     "end_time": "2024-12-02T09:54:17.916717Z",
     "start_time": "2024-12-02T09:53:18.166654Z"
    }
   },
   "cell_type": "code",
   "source": [
    "skf = StratifiedKFold(n_splits=5, shuffle=True, random_state=42)\n",
    "fold_results = []\n",
    "\n",
    "for train_index, val_index in skf.split(X, y):\n",
    "    X_train, X_val = X.iloc[train_index], X.iloc[val_index]\n",
    "    y_train, y_val = y.iloc[train_index], y.iloc[val_index]\n",
    "\n",
    "    model = tf.keras.Sequential([\n",
    "        tf.keras.layers.InputLayer(shape=(X_train.shape[1],)),\n",
    "        tf.keras.layers.Dense(16, activation='relu'),\n",
    "        tf.keras.layers.Dense(8, activation='relu'),\n",
    "        tf.keras.layers.Dense(1, activation='sigmoid')\n",
    "    ])\n",
    "\n",
    "    model.compile(optimizer='adam', loss='binary_crossentropy', metrics=['accuracy'])\n",
    "\n",
    "    model.fit(X_train, y_train, epochs=50, batch_size=32, verbose=0)\n",
    "\n",
    "    y_pred = (model.predict(X_val) > 0.5).astype(\"int32\")\n",
    "    fold_results.append({\n",
    "        \"classification_report\": classification_report(y_val, y_pred, output_dict=True),\n",
    "        \"confusion_matrix\": confusion_matrix(y_val, y_pred).tolist(),\n",
    "        \"roc_auc\": roc_auc_score(y_val, model.predict(X_val))\n",
    "    })"
   ],
   "id": "a5a986ade469af46",
   "outputs": [
    {
     "name": "stdout",
     "output_type": "stream",
     "text": [
      "\u001B[1m63/63\u001B[0m \u001B[32m━━━━━━━━━━━━━━━━━━━━\u001B[0m\u001B[37m\u001B[0m \u001B[1m0s\u001B[0m 1ms/step  \n",
      "\u001B[1m63/63\u001B[0m \u001B[32m━━━━━━━━━━━━━━━━━━━━\u001B[0m\u001B[37m\u001B[0m \u001B[1m0s\u001B[0m 804us/step\n",
      "\u001B[1m63/63\u001B[0m \u001B[32m━━━━━━━━━━━━━━━━━━━━\u001B[0m\u001B[37m\u001B[0m \u001B[1m0s\u001B[0m 1ms/step  \n",
      "\u001B[1m63/63\u001B[0m \u001B[32m━━━━━━━━━━━━━━━━━━━━\u001B[0m\u001B[37m\u001B[0m \u001B[1m0s\u001B[0m 711us/step\n",
      "\u001B[1m63/63\u001B[0m \u001B[32m━━━━━━━━━━━━━━━━━━━━\u001B[0m\u001B[37m\u001B[0m \u001B[1m0s\u001B[0m 1ms/step  \n",
      "\u001B[1m63/63\u001B[0m \u001B[32m━━━━━━━━━━━━━━━━━━━━\u001B[0m\u001B[37m\u001B[0m \u001B[1m0s\u001B[0m 752us/step\n",
      "\u001B[1m63/63\u001B[0m \u001B[32m━━━━━━━━━━━━━━━━━━━━\u001B[0m\u001B[37m\u001B[0m \u001B[1m0s\u001B[0m 969us/step\n",
      "\u001B[1m63/63\u001B[0m \u001B[32m━━━━━━━━━━━━━━━━━━━━\u001B[0m\u001B[37m\u001B[0m \u001B[1m0s\u001B[0m 641us/step\n",
      "\u001B[1m63/63\u001B[0m \u001B[32m━━━━━━━━━━━━━━━━━━━━\u001B[0m\u001B[37m\u001B[0m \u001B[1m0s\u001B[0m 1ms/step \n",
      "\u001B[1m63/63\u001B[0m \u001B[32m━━━━━━━━━━━━━━━━━━━━\u001B[0m\u001B[37m\u001B[0m \u001B[1m0s\u001B[0m 647us/step\n"
     ]
    }
   ],
   "execution_count": 11
  },
  {
   "metadata": {},
   "cell_type": "markdown",
   "source": "Оцінка метрики якості",
   "id": "a36cd9515b269763"
  },
  {
   "metadata": {
    "ExecuteTime": {
     "end_time": "2024-12-02T09:55:13.338162Z",
     "start_time": "2024-12-02T09:55:13.318244Z"
    }
   },
   "cell_type": "code",
   "source": [
    "mean_accuracy = np.mean([result[\"classification_report\"][\"accuracy\"] for result in fold_results])\n",
    "mean_roc_auc = np.mean([result[\"roc_auc\"] for result in fold_results])\n",
    "\n",
    "print(f\"Середня точність (Accuracy): {mean_accuracy}\")\n",
    "print(f\"Середній ROC AUC: {mean_roc_auc}\")"
   ],
   "id": "86f027bb9c813d47",
   "outputs": [
    {
     "name": "stdout",
     "output_type": "stream",
     "text": [
      "Середня точність (Accuracy): 0.8543\n",
      "Середній ROC AUC: 0.8529069199308636\n"
     ]
    }
   ],
   "execution_count": 12
  },
  {
   "metadata": {},
   "cell_type": "code",
   "outputs": [],
   "execution_count": null,
   "source": "",
   "id": "3aea5d9f140feea6"
  }
 ],
 "metadata": {
  "kernelspec": {
   "display_name": "Python 3",
   "language": "python",
   "name": "python3"
  },
  "language_info": {
   "codemirror_mode": {
    "name": "ipython",
    "version": 2
   },
   "file_extension": ".py",
   "mimetype": "text/x-python",
   "name": "python",
   "nbconvert_exporter": "python",
   "pygments_lexer": "ipython2",
   "version": "2.7.6"
  }
 },
 "nbformat": 4,
 "nbformat_minor": 5
}
